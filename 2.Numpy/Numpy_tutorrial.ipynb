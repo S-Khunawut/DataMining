{
 "cells": [
  {
   "cell_type": "markdown",
   "id": "c5e69ad0",
   "metadata": {},
   "source": [
    "## 1. Import numpy as np เรียกใช้งาน numpy"
   ]
  },
  {
   "cell_type": "code",
   "execution_count": 1,
   "id": "1b278688",
   "metadata": {},
   "outputs": [],
   "source": [
    "import numpy as np  "
   ]
  },
  {
   "cell_type": "code",
   "execution_count": null,
   "id": "9057081f",
   "metadata": {},
   "outputs": [],
   "source": [
    "# Synyax creating Array\n",
    "# array_name \n",
    "\n",
    "# 1 - dimensiona1 array 1,5,2,0 \n",
    "arr_1d = np.array([ 1, 5, 2, 0 ])\n",
    "# 2 - dimensional array  1,5,2,0  8,3,6,1  1,7,2,9\n",
    "arr_2d = np.array([ [1,5,2,0], [8,3,6,1], [1,7,2,9] ])\n",
    "\n",
    "# 3 - dimensional array 10, 15, 20, 25   30, 35, 40, 45   50, 55, 60, 65 \n",
    "arr_3d = np.array([ [10, 15], \n",
    "                [ 20, 25], \n",
    "                \n",
    "                [30, 35], \n",
    "                [40, 45],\n",
    "                \n",
    "                [50, 55], \n",
    "                [60, 65] ])\n"
   ]
  },
  {
   "cell_type": "code",
   "execution_count": 7,
   "id": "5b4a0951",
   "metadata": {},
   "outputs": [
    {
     "name": "stdout",
     "output_type": "stream",
     "text": [
      "[1 5 2 0]\n",
      "------\n",
      "[[1 5 2 0]\n",
      " [8 3 6 1]\n",
      " [1 7 2 9]]\n",
      "[[10 15]\n",
      " [20 25]\n",
      " [30 35]\n",
      " [40 45]\n",
      " [50 55]\n",
      " [60 65]]\n"
     ]
    }
   ],
   "source": [
    "print (arr_1d)\n",
    "print ('------')\n",
    "print (arr_2d)\n",
    "print (arr_3d)"
   ]
  },
  {
   "cell_type": "code",
   "execution_count": 6,
   "id": "dc5d7af8",
   "metadata": {},
   "outputs": [],
   "source": [
    "default_array = np.array([1,2,3,4,5,6])\n",
    "default_array_2d = np.array([ [1,2,3,4], [5,6,7,8], [9,10,11,12] ])"
   ]
  },
  {
   "cell_type": "code",
   "execution_count": 11,
   "id": "eca1ac9f",
   "metadata": {},
   "outputs": [
    {
     "data": {
      "text/plain": [
       "np.int64(8)"
      ]
     },
     "execution_count": 11,
     "metadata": {},
     "output_type": "execute_result"
    }
   ],
   "source": [
    "# สามตัวแรก จาก default_array\n",
    "# default_array[ :3]\n",
    "\n",
    "# ตีวที่ 4 เป็นต้นไป default_array\n",
    "# default_array[3:]\n",
    "\n",
    "# สามชืกใน row 2 columns 4 ใน default_array_2d\n",
    "default_array_2d[1,3]"
   ]
  },
  {
   "cell_type": "code",
   "execution_count": 12,
   "id": "bdb16901",
   "metadata": {},
   "outputs": [],
   "source": [
    "array_attribute = np.array([ [  1, 2, 3, 4 ], [  5, 6, 7, 8 ], [ 9, 10, 11, 12 ] ])"
   ]
  },
  {
   "cell_type": "code",
   "execution_count": null,
   "id": "174731f5",
   "metadata": {},
   "outputs": [
    {
     "data": {
      "text/plain": [
       "dtype('int64')"
      ]
     },
     "execution_count": 18,
     "metadata": {},
     "output_type": "execute_result"
    }
   ],
   "source": [
    "# ตรวจสอบคุณสมบัติของ Array\n",
    "# array_attribute.ndim ดุว่ามีกี่มิติ\n",
    "# array_attribute.ndim \n",
    "# array_attribute.shape ดูว่ามีกี่แถว กี่คอลัมน์\n",
    "# array_attribute.shape \n",
    "# array_attribute.size ดูจำนวนสมาชิก\n",
    "array_attribute.size\n",
    "# array_attribute.dtype ตรวจสอบชนิดของข้อมูล\n",
    "array_attribute.dtype"
   ]
  },
  {
   "cell_type": "code",
   "execution_count": 22,
   "id": "4c8907a4",
   "metadata": {},
   "outputs": [],
   "source": [
    "zero_2d_array = np.zeros(2)\n",
    "one_1d_array = np.ones(5)\n",
    "arange_array = np.arange(4)\n",
    "step_arang_array= np.arange(2,9,2)  # start stop step "
   ]
  },
  {
   "cell_type": "code",
   "execution_count": 23,
   "id": "c4feef4f",
   "metadata": {},
   "outputs": [
    {
     "name": "stdout",
     "output_type": "stream",
     "text": [
      "[0. 0.]\n",
      "[1. 1. 1. 1. 1.]\n",
      "[0 1 2 3]\n",
      "[1. 1. 1. 1. 1.]\n"
     ]
    }
   ],
   "source": [
    "# zero_2d_array\n",
    "print (zero_2d_array)\n",
    "# one_1d_array\n",
    "print (one_1d_array)\n",
    "# arang_array\n",
    "print (arange_array)\n",
    "# step_arang_array\n",
    "print(one_1d_array)"
   ]
  },
  {
   "cell_type": "code",
   "execution_count": 27,
   "id": "f2da9467",
   "metadata": {},
   "outputs": [],
   "source": [
    "array_sample = np.arange(20)"
   ]
  },
  {
   "cell_type": "code",
   "execution_count": 28,
   "id": "d3116f68",
   "metadata": {},
   "outputs": [
    {
     "name": "stdout",
     "output_type": "stream",
     "text": [
      "[ 0  1  2  3  4  5  6  7  8  9 10 11 12 13 14 15 16 17 18 19]\n"
     ]
    }
   ],
   "source": [
    "print (array_sample)"
   ]
  },
  {
   "cell_type": "code",
   "execution_count": 32,
   "id": "d21f20f4",
   "metadata": {},
   "outputs": [
    {
     "data": {
      "text/plain": [
       "array([[ 0,  1,  2,  3],\n",
       "       [ 4,  5,  6,  7],\n",
       "       [ 8,  9, 10, 11],\n",
       "       [12, 13, 14, 15],\n",
       "       [16, 17, 18, 19]])"
      ]
     },
     "execution_count": 32,
     "metadata": {},
     "output_type": "execute_result"
    }
   ],
   "source": [
    "# reshape สองแถว\n",
    "array_sample.reshape(2,10)\n",
    "# reshape 10 แถว\n",
    "array_sample.reshape(10,2)\n",
    "\n",
    "# reshape (2,3)\n",
    "array_sample.reshape(5,4)"
   ]
  },
  {
   "cell_type": "code",
   "execution_count": 24,
   "id": "8d2288a8",
   "metadata": {},
   "outputs": [],
   "source": [
    "data = np.array([ 1, 2])\n",
    "ones = np.ones(2)# [1, 1 ]\n",
    "b = np.array([ [1,1], [2,2] ])  \n",
    "# [ 1, 1 ]  \n",
    "# [ 2, 2 ]"
   ]
  },
  {
   "cell_type": "code",
   "execution_count": 25,
   "id": "5abf1462",
   "metadata": {},
   "outputs": [],
   "source": [
    "sum = data + ones  \n",
    "diff = data - ones \n",
    "multiply_array = data * ones \n",
    "divide_array = data/ones\n",
    "col_sum = b.sum(axis=0) # ผลรวมแนว column\n",
    "row_sum= b.sum(axis=1) # ผลรวมแนว row "
   ]
  },
  {
   "cell_type": "code",
   "execution_count": 26,
   "id": "32118c8f",
   "metadata": {},
   "outputs": [
    {
     "name": "stdout",
     "output_type": "stream",
     "text": [
      "[2 4]\n"
     ]
    }
   ],
   "source": [
    "sum\n",
    "diff\n",
    "multiply_array\n",
    "divide_array\n",
    "# print(col_sum)  \n",
    "print(row_sum)"
   ]
  },
  {
   "cell_type": "code",
   "execution_count": null,
   "id": "3d83becd",
   "metadata": {},
   "outputs": [],
   "source": []
  }
 ],
 "metadata": {
  "kernelspec": {
   "display_name": "env",
   "language": "python",
   "name": "python3"
  },
  "language_info": {
   "codemirror_mode": {
    "name": "ipython",
    "version": 3
   },
   "file_extension": ".py",
   "mimetype": "text/x-python",
   "name": "python",
   "nbconvert_exporter": "python",
   "pygments_lexer": "ipython3",
   "version": "3.13.5"
  }
 },
 "nbformat": 4,
 "nbformat_minor": 5
}
