{
 "cells": [
  {
   "cell_type": "markdown",
   "id": "1915b29a",
   "metadata": {},
   "source": [
    "## การบ้านจารย์ตั้ม แบบฝึกหัด Numpy"
   ]
  },
  {
   "cell_type": "code",
   "execution_count": 1,
   "id": "420662f2",
   "metadata": {},
   "outputs": [
    {
     "name": "stdout",
     "output_type": "stream",
     "text": [
      "1D array (odd numbers): [ 1  3  5  7  9 11 13 15]\n",
      "\n",
      "2D array (3x5, filled with 9):\n",
      " [[9 9 9 9 9]\n",
      " [9 9 9 9 9]\n",
      " [9 9 9 9 9]]\n",
      "\n",
      "3D array (2x3x4, filled with 0):\n",
      " [[[0. 0. 0. 0.]\n",
      "  [0. 0. 0. 0.]\n",
      "  [0. 0. 0. 0.]]\n",
      "\n",
      " [[0. 0. 0. 0.]\n",
      "  [0. 0. 0. 0.]\n",
      "  [0. 0. 0. 0.]]]\n",
      "Shape of 3D array: (2, 3, 4)\n",
      "\n",
      "Linspace array (10 values from 0 to 5): [0.         0.55555556 1.11111111 1.66666667 2.22222222 2.77777778\n",
      " 3.33333333 3.88888889 4.44444444 5.        ]\n",
      "\n",
      "Last item of default_array: 6\n",
      "Slice from index 1 to 3: [2 3 4]\n",
      "Column 2 of default_array_2d: [ 2  6 10]\n",
      "Last 2 values of row 1: [3 4]\n",
      "Bottom-right value of default_array_2d: 12\n",
      "\n",
      "Result of x^2 + 2x where x = [1,2,3,4]: [ 3  8 15 24]\n"
     ]
    }
   ],
   "source": [
    "import numpy as np\n",
    "\n",
    "# --- แบบฝึกหัด NumPy – การสร้างและใช้งานอาเรย์ ---\n",
    "\n",
    "# 1D array: สร้างอาเรย์ขนาด 8 ที่มีเลขคี่จาก 1 ถึง 15\n",
    "odd_array = np.arange(1, 16, 2)\n",
    "print(\"1D array (odd numbers):\", odd_array)\n",
    "\n",
    "# 2D array: สร้างอาเรย์ 3 แถว 5 คอลัมน์ ที่มีค่าเป็น 9\n",
    "array_2d = np.full((3, 5), 9)\n",
    "print(\"\\n2D array (3x5, filled with 9):\\n\", array_2d)\n",
    "\n",
    "# 3D array: สร้างอาเรย์ 2 × 3 × 4 ที่มีค่าเป็น 0\n",
    "array_3d = np.zeros((2, 3, 4))\n",
    "print(\"\\n3D array (2x3x4, filled with 0):\\n\", array_3d)\n",
    "print(\"Shape of 3D array:\", array_3d.shape)\n",
    "\n",
    "# สร้างอาเรย์ที่มี 10 ค่า จาก 0 ถึง 5 โดยใช้ np.linspace()\n",
    "linspace_array = np.linspace(0, 5, 10)\n",
    "print(\"\\nLinspace array (10 values from 0 to 5):\", linspace_array)\n",
    "\n",
    "# --- แบบฝึกหัด: NumPy Indexing & Slicing ---\n",
    "\n",
    "default_array = np.array([1, 2, 3, 4, 5, 6])\n",
    "default_array_2d = np.array([\n",
    "    [1, 2, 3, 4],\n",
    "    [5, 6, 7, 8],\n",
    "    [9, 10, 11, 12]\n",
    "])\n",
    "\n",
    "# เลือกสมาชิกตัวสุดท้าย\n",
    "last_item = default_array[-1]\n",
    "print(\"\\nLast item of default_array:\", last_item)\n",
    "\n",
    "# เลือกสมาชิก index 1–3\n",
    "slice_2_to_4 = default_array[1:4]\n",
    "print(\"Slice from index 1 to 3:\", slice_2_to_4)\n",
    "\n",
    "# ค่าทั้งหมดในคอลัมน์ที่ 2 (index = 1)\n",
    "column_2 = default_array_2d[:, 1]\n",
    "print(\"Column 2 of default_array_2d:\", column_2)\n",
    "\n",
    "# แถวแรก 2 ตัวสุดท้าย\n",
    "row1_last2 = default_array_2d[0, -2:]\n",
    "print(\"Last 2 values of row 1:\", row1_last2)\n",
    "\n",
    "# ค่ามุมขวาล่าง\n",
    "bottom_right = default_array_2d[-1, -1]\n",
    "print(\"Bottom-right value of default_array_2d:\", bottom_right)\n",
    "\n",
    "# --- แบบฝึกหัด 3: การคำนวณทางคณิตศาสตร์ ---\n",
    "\n",
    "x = np.array([1, 2, 3, 4])\n",
    "result = x**2 + 2*x\n",
    "print(\"\\nResult of x^2 + 2x where x = [1,2,3,4]:\", result)"
   ]
  }
 ],
 "metadata": {
  "kernelspec": {
   "display_name": "env",
   "language": "python",
   "name": "python3"
  },
  "language_info": {
   "codemirror_mode": {
    "name": "ipython",
    "version": 3
   },
   "file_extension": ".py",
   "mimetype": "text/x-python",
   "name": "python",
   "nbconvert_exporter": "python",
   "pygments_lexer": "ipython3",
   "version": "3.13.5"
  }
 },
 "nbformat": 4,
 "nbformat_minor": 5
}
