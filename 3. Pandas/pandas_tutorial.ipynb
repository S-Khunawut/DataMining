{
 "cells": [
  {
   "cell_type": "code",
   "execution_count": 1,
   "id": "980f01b5",
   "metadata": {},
   "outputs": [],
   "source": [
    "import pandas as pd"
   ]
  },
  {
   "cell_type": "markdown",
   "id": "7fa21180",
   "metadata": {},
   "source": [
    "## Introduction to dataFrame"
   ]
  },
  {
   "cell_type": "code",
   "execution_count": 2,
   "id": "4449e49e",
   "metadata": {},
   "outputs": [
    {
     "data": {
      "text/html": [
       "<div>\n",
       "<style scoped>\n",
       "    .dataframe tbody tr th:only-of-type {\n",
       "        vertical-align: middle;\n",
       "    }\n",
       "\n",
       "    .dataframe tbody tr th {\n",
       "        vertical-align: top;\n",
       "    }\n",
       "\n",
       "    .dataframe thead th {\n",
       "        text-align: right;\n",
       "    }\n",
       "</style>\n",
       "<table border=\"1\" class=\"dataframe\">\n",
       "  <thead>\n",
       "    <tr style=\"text-align: right;\">\n",
       "      <th></th>\n",
       "      <th>0</th>\n",
       "      <th>1</th>\n",
       "      <th>2</th>\n",
       "    </tr>\n",
       "  </thead>\n",
       "  <tbody>\n",
       "    <tr>\n",
       "      <th>0</th>\n",
       "      <td>1</td>\n",
       "      <td>2</td>\n",
       "      <td>3</td>\n",
       "    </tr>\n",
       "    <tr>\n",
       "      <th>1</th>\n",
       "      <td>4</td>\n",
       "      <td>5</td>\n",
       "      <td>6</td>\n",
       "    </tr>\n",
       "    <tr>\n",
       "      <th>2</th>\n",
       "      <td>7</td>\n",
       "      <td>8</td>\n",
       "      <td>9</td>\n",
       "    </tr>\n",
       "    <tr>\n",
       "      <th>3</th>\n",
       "      <td>10</td>\n",
       "      <td>11</td>\n",
       "      <td>12</td>\n",
       "    </tr>\n",
       "  </tbody>\n",
       "</table>\n",
       "</div>"
      ],
      "text/plain": [
       "    0   1   2\n",
       "0   1   2   3\n",
       "1   4   5   6\n",
       "2   7   8   9\n",
       "3  10  11  12"
      ]
     },
     "execution_count": 2,
     "metadata": {},
     "output_type": "execute_result"
    }
   ],
   "source": [
    "# Create dataFrame:df\n",
    "df = pd.DataFrame([[1,2,3],[4,5,6],[7,8,9],[10,11,12]])\n",
    "df"
   ]
  },
  {
   "cell_type": "code",
   "execution_count": 3,
   "id": "c4c75f0d",
   "metadata": {},
   "outputs": [
    {
     "data": {
      "text/html": [
       "<div>\n",
       "<style scoped>\n",
       "    .dataframe tbody tr th:only-of-type {\n",
       "        vertical-align: middle;\n",
       "    }\n",
       "\n",
       "    .dataframe tbody tr th {\n",
       "        vertical-align: top;\n",
       "    }\n",
       "\n",
       "    .dataframe thead th {\n",
       "        text-align: right;\n",
       "    }\n",
       "</style>\n",
       "<table border=\"1\" class=\"dataframe\">\n",
       "  <thead>\n",
       "    <tr style=\"text-align: right;\">\n",
       "      <th></th>\n",
       "      <th>A</th>\n",
       "      <th>B</th>\n",
       "      <th>C</th>\n",
       "    </tr>\n",
       "  </thead>\n",
       "  <tbody>\n",
       "    <tr>\n",
       "      <th>0</th>\n",
       "      <td>1</td>\n",
       "      <td>2</td>\n",
       "      <td>3</td>\n",
       "    </tr>\n",
       "    <tr>\n",
       "      <th>1</th>\n",
       "      <td>4</td>\n",
       "      <td>5</td>\n",
       "      <td>6</td>\n",
       "    </tr>\n",
       "    <tr>\n",
       "      <th>2</th>\n",
       "      <td>7</td>\n",
       "      <td>8</td>\n",
       "      <td>9</td>\n",
       "    </tr>\n",
       "    <tr>\n",
       "      <th>3</th>\n",
       "      <td>10</td>\n",
       "      <td>11</td>\n",
       "      <td>12</td>\n",
       "    </tr>\n",
       "  </tbody>\n",
       "</table>\n",
       "</div>"
      ],
      "text/plain": [
       "    A   B   C\n",
       "0   1   2   3\n",
       "1   4   5   6\n",
       "2   7   8   9\n",
       "3  10  11  12"
      ]
     },
     "execution_count": 3,
     "metadata": {},
     "output_type": "execute_result"
    }
   ],
   "source": [
    "# df with columns\n",
    "df_columns= pd.DataFrame([[1,2,3],[4,5,6],[7,8,9],[10,11,12]],columns= [\"A\",\"B\",\"C\"])\n",
    "df_columns"
   ]
  },
  {
   "cell_type": "code",
   "execution_count": 4,
   "id": "8a354d01",
   "metadata": {},
   "outputs": [
    {
     "data": {
      "text/html": [
       "<div>\n",
       "<style scoped>\n",
       "    .dataframe tbody tr th:only-of-type {\n",
       "        vertical-align: middle;\n",
       "    }\n",
       "\n",
       "    .dataframe tbody tr th {\n",
       "        vertical-align: top;\n",
       "    }\n",
       "\n",
       "    .dataframe thead th {\n",
       "        text-align: right;\n",
       "    }\n",
       "</style>\n",
       "<table border=\"1\" class=\"dataframe\">\n",
       "  <thead>\n",
       "    <tr style=\"text-align: right;\">\n",
       "      <th></th>\n",
       "      <th>A</th>\n",
       "      <th>B</th>\n",
       "      <th>C</th>\n",
       "    </tr>\n",
       "  </thead>\n",
       "  <tbody>\n",
       "    <tr>\n",
       "      <th>year_1</th>\n",
       "      <td>1</td>\n",
       "      <td>2</td>\n",
       "      <td>3</td>\n",
       "    </tr>\n",
       "    <tr>\n",
       "      <th>year_2</th>\n",
       "      <td>4</td>\n",
       "      <td>5</td>\n",
       "      <td>6</td>\n",
       "    </tr>\n",
       "    <tr>\n",
       "      <th>year_3</th>\n",
       "      <td>7</td>\n",
       "      <td>8</td>\n",
       "      <td>9</td>\n",
       "    </tr>\n",
       "    <tr>\n",
       "      <th>year_4</th>\n",
       "      <td>10</td>\n",
       "      <td>11</td>\n",
       "      <td>12</td>\n",
       "    </tr>\n",
       "  </tbody>\n",
       "</table>\n",
       "</div>"
      ],
      "text/plain": [
       "         A   B   C\n",
       "year_1   1   2   3\n",
       "year_2   4   5   6\n",
       "year_3   7   8   9\n",
       "year_4  10  11  12"
      ]
     },
     "execution_count": 4,
     "metadata": {},
     "output_type": "execute_result"
    }
   ],
   "source": [
    "# df with columns and index\n",
    "df_columns_index= pd.DataFrame([[1,2,3],[4,5,6],[7,8,9],[10,11,12]],columns= [\"A\",\"B\",\"C\"],index=[\"year_1\",\"year_2\",\"year_3\",\"year_4\",])\n",
    "df_columns_index"
   ]
  },
  {
   "cell_type": "markdown",
   "id": "efd599f0",
   "metadata": {},
   "source": [
    "## 2. Data loading\n",
    "### การนำเข้าข้อมูล"
   ]
  },
  {
   "cell_type": "code",
   "execution_count": 5,
   "id": "701a8823",
   "metadata": {},
   "outputs": [
    {
     "data": {
      "text/html": [
       "<div>\n",
       "<style scoped>\n",
       "    .dataframe tbody tr th:only-of-type {\n",
       "        vertical-align: middle;\n",
       "    }\n",
       "\n",
       "    .dataframe tbody tr th {\n",
       "        vertical-align: top;\n",
       "    }\n",
       "\n",
       "    .dataframe thead th {\n",
       "        text-align: right;\n",
       "    }\n",
       "</style>\n",
       "<table border=\"1\" class=\"dataframe\">\n",
       "  <thead>\n",
       "    <tr style=\"text-align: right;\">\n",
       "      <th></th>\n",
       "      <th>coffee</th>\n",
       "      <th>unit_sold</th>\n",
       "    </tr>\n",
       "  </thead>\n",
       "  <tbody>\n",
       "    <tr>\n",
       "      <th>0</th>\n",
       "      <td>late</td>\n",
       "      <td>15</td>\n",
       "    </tr>\n",
       "    <tr>\n",
       "      <th>1</th>\n",
       "      <td>espresso</td>\n",
       "      <td>20</td>\n",
       "    </tr>\n",
       "    <tr>\n",
       "      <th>2</th>\n",
       "      <td>capuchino</td>\n",
       "      <td>18</td>\n",
       "    </tr>\n",
       "    <tr>\n",
       "      <th>3</th>\n",
       "      <td>amaricano</td>\n",
       "      <td>10</td>\n",
       "    </tr>\n",
       "  </tbody>\n",
       "</table>\n",
       "</div>"
      ],
      "text/plain": [
       "      coffee  unit_sold\n",
       "0       late         15\n",
       "1   espresso         20\n",
       "2  capuchino         18\n",
       "3  amaricano         10"
      ]
     },
     "execution_count": 5,
     "metadata": {},
     "output_type": "execute_result"
    }
   ],
   "source": [
    "# read_excel()\n",
    "import pandas as pd\n",
    "df_from_excel = pd.read_excel(\"./datasets/Data_sample.xlsx\")\n",
    "df_from_excel_sheet2 = pd.read_excel(\"./datasets/Data_sample.xlsx\",sheet_name=\"Sheet2\")\n",
    "df_from_excel_sheet2"
   ]
  },
  {
   "cell_type": "code",
   "execution_count": null,
   "id": "eef230da",
   "metadata": {},
   "outputs": [],
   "source": [
    "# read_csv()\n",
    "df_from_csv = pd.read_csv(\"./datasets/Salary_Data.csv\")\n",
    "df_from_csv"
   ]
  },
  {
   "cell_type": "code",
   "execution_count": null,
   "id": "5d19f5ed",
   "metadata": {},
   "outputs": [],
   "source": [
    "# read_csv() from url\n",
    "#read_csv(path)\n",
    "path = \"https://raw.githubusercontent.com/MainakRepositor/Datasets/refs/heads/master/CoffeeAndCodeLT2018%20-%20CoffeeAndCodeLT2018.csv\"\n",
    "df_from_url = pd.read_csv(path)\n",
    "\n",
    "df_from_url"
   ]
  },
  {
   "cell_type": "markdown",
   "id": "c738a5ec",
   "metadata": {},
   "source": [
    "## 3.Accessing Data with Pandas\n",
    "### การเข้าถึงข้อมูล"
   ]
  },
  {
   "cell_type": "code",
   "execution_count": null,
   "id": "bba5882a",
   "metadata": {},
   "outputs": [],
   "source": [
    "# ตรวจสอบ dataFrame ด้วย.info\n",
    "df_from_url.info()"
   ]
  },
  {
   "cell_type": "code",
   "execution_count": null,
   "id": "21bc1eb0",
   "metadata": {},
   "outputs": [],
   "source": [
    "# เข้าถึงข้อมูลแบบ คอลัม\n",
    "\n",
    "# 1.แสดง คอลัม\n",
    "df_from_url.columns\n",
    "#['CodingHours', 'CoffeeCupsPerDay', 'CoffeeTime', 'CodingWithoutCoffee',\n",
    "    #    'CoffeeType', 'CoffeeSolveBugs', 'Gender', 'Country', 'AgeRange']\n",
    "# 2.เข้าถึง คอลัม\n",
    "df_from_url[\"CodingHours\"]\n",
    "df_from_url[\"Country\"]\n",
    "df_from_url[\"CoffeeType\"]\n",
    "df_from_url[\"CoffeeTime\"]\n",
    "\n",
    "# 2.เข้าถึง คอลัม more than 1 คอลัม\n",
    "df_from_url[[\"CodingHours\",\"Country\",\"CoffeeType\",\"CoffeeTime\"]]"
   ]
  },
  {
   "cell_type": "code",
   "execution_count": null,
   "id": "260fe8a9",
   "metadata": {},
   "outputs": [],
   "source": [
    "# เข้าถึงแบบ Row with dataFrame.loc[ row columns ]\n",
    "df_from_url.loc[[0,1,2,3,4,5,6,7,8,9]]\n",
    "df_from_url.loc[0:20]\n",
    "df_from_url.loc[50:]"
   ]
  },
  {
   "cell_type": "code",
   "execution_count": null,
   "id": "d84e7b0c",
   "metadata": {},
   "outputs": [],
   "source": [
    "#เข้าถึงแบบ dataFrame.loc[ row columns ]\n",
    "# สร้างด้าต้าเฟลม ชื่อ coffee\n",
    "coffee = df_from_url\n",
    "\n",
    "# ขอแถวที่ 0 ถึง 20 และ คอลัม 'CoffeeType'\n",
    "coffee.loc[:20,'CoffeeType']\n",
    "\n",
    "# ขอแถวที่ 0 ถึง 20 และ คอลัม 'CoffeeType''Grnder'\n",
    "coffee.loc[:20,['CoffeeType','Gender']]\n",
    "\n",
    "# ขอแถวที่ 15 ถึง 50 และ คอลัม ที่3-6\n",
    "coffee.loc[14:50,['CoffeeTime','CodingWithoutCoffee','CoffeeType','CoffeeSolveBugs']]"
   ]
  },
  {
   "cell_type": "markdown",
   "id": "fefea716",
   "metadata": {},
   "source": [
    "## 4.Filtering Data"
   ]
  },
  {
   "cell_type": "code",
   "execution_count": null,
   "id": "60dfe804",
   "metadata": {},
   "outputs": [],
   "source": [
    "# 1. Single condition / เงื่อนไขเดียว\n",
    "# กรองคนทำงาน CodingHours > 8 \n",
    "high_coffee = coffee[\"CodingHours\"]> 8 # Series # ตรวจสอบว่าข้อมูลไหน มากกว่า 8 บ้าง ผลลัทธ์ True False\n",
    "high_coffee = coffee[coffee[\"CodingHours\"] > 8]\n",
    "# high_coffee = coffee[coffee[\"CodingHours\"]>8] # Series\n",
    "# high_coffee.info()\n",
    "# high_coffee = df[df['salary']>50000]\n",
    "\n",
    "# 2. Multi condition\n",
    "# กรองคนทำงาน CodingHours > 8 และ เป็น เพศหญิง\n",
    "# high_coffee = coffee[coffee[\"CodingHours\"]>8 & coffee['Gender']=='Female'] # DataFrame\n",
    "# high_coffee = coffee[(coffee[\"CodingHours\"] > 8) & (coffee[\"Gender\"] == \"Female\")]\n",
    "high_coffee\n",
    "# female_high_salay = df[df['gender']=='Female']"
   ]
  },
  {
   "cell_type": "code",
   "execution_count": 43,
   "id": "7d8a3e1e",
   "metadata": {},
   "outputs": [
    {
     "data": {
      "text/html": [
       "<div>\n",
       "<style scoped>\n",
       "    .dataframe tbody tr th:only-of-type {\n",
       "        vertical-align: middle;\n",
       "    }\n",
       "\n",
       "    .dataframe tbody tr th {\n",
       "        vertical-align: top;\n",
       "    }\n",
       "\n",
       "    .dataframe thead th {\n",
       "        text-align: right;\n",
       "    }\n",
       "</style>\n",
       "<table border=\"1\" class=\"dataframe\">\n",
       "  <thead>\n",
       "    <tr style=\"text-align: right;\">\n",
       "      <th></th>\n",
       "      <th>number</th>\n",
       "      <th>firstname</th>\n",
       "      <th>lastname</th>\n",
       "      <th>age</th>\n",
       "      <th>income</th>\n",
       "      <th>sex</th>\n",
       "      <th>weight</th>\n",
       "    </tr>\n",
       "  </thead>\n",
       "  <tbody>\n",
       "    <tr>\n",
       "      <th>1</th>\n",
       "      <td>2</td>\n",
       "      <td>bob</td>\n",
       "      <td>baley</td>\n",
       "      <td>40</td>\n",
       "      <td>17500</td>\n",
       "      <td>male</td>\n",
       "      <td>40</td>\n",
       "    </tr>\n",
       "    <tr>\n",
       "      <th>2</th>\n",
       "      <td>3</td>\n",
       "      <td>charlie</td>\n",
       "      <td>angel</td>\n",
       "      <td>30</td>\n",
       "      <td>13000</td>\n",
       "      <td>male</td>\n",
       "      <td>50</td>\n",
       "    </tr>\n",
       "    <tr>\n",
       "      <th>3</th>\n",
       "      <td>4</td>\n",
       "      <td>john</td>\n",
       "      <td>wick</td>\n",
       "      <td>50</td>\n",
       "      <td>20000</td>\n",
       "      <td>male</td>\n",
       "      <td>50</td>\n",
       "    </tr>\n",
       "  </tbody>\n",
       "</table>\n",
       "</div>"
      ],
      "text/plain": [
       "   number firstname lastname  age  income   sex  weight\n",
       "1       2       bob    baley   40   17500  male      40\n",
       "2       3   charlie    angel   30   13000  male      50\n",
       "3       4      john     wick   50   20000  male      50"
      ]
     },
     "execution_count": 43,
     "metadata": {},
     "output_type": "execute_result"
    }
   ],
   "source": [
    "# นำ Data_sample เข้า DataFrame\n",
    "data_sample = pd.read_excel(\"./datasets/Data_sample.xlsx\")\n",
    "data_sample\n",
    "\n",
    "#กรองคนที่อายุมากกว่า 10\n",
    "data_year_more_than_10 = data_sample['age']>10\n",
    "\n",
    "#อยากได้เป็น DataFrame dataframe[]\n",
    "data_year_more_than_10 = data_sample[data_sample['age']>10]\n",
    "data_year_more_than_10 # dataframe ต้องมีข้อมูลแสดงออกมา\n",
    "\n",
    "#เพิ่ม คอลัม ชื่อว่า sex\n",
    "data_sample['sex'] = ['female','male','male','male','male','male']\n",
    "data_sample\n",
    "\n",
    "# เพิ่มคอลัม ชื่อว่า weight\n",
    "data_sample['weight'] = [30,40,50,50,50,50]\n",
    "data_sample\n",
    "\n",
    "\n",
    "# กรอง คนที่มีน้ำหนักมากกว่า 40\n",
    "data_weight_more_than_40 = data_sample['weight']>40\n",
    "data_weight_more_than_40\n",
    "\n",
    "#สร้าง dataframe ชื่องว่า data_sample_weight_more_than_40\n",
    "data_weight_more_than_40 = data_sample[data_sample['weight']>40]\n",
    "data_weight_more_than_40\n",
    "\n",
    "\n",
    "# กรอง คนที่มีน้ำหนักมากกว่า 40 และ คนที่อายุมากว่า 10 () & ()\n",
    "(data_sample['weight'] > 40) & (data_sample['age']>10) #<< condition\n",
    "\n",
    "# กรอง คนที่มีน้ำหนักมากกว่า 40 และ คนที่อายุมากว่า 10 () & ()\n",
    "data_sample_more_w_40_and_a_more_10 = data_sample[(data_sample['weight'] > 40) & (data_sample['age']>10)]\n",
    "data_sample_more_w_40_and_a_more_10\n",
    "\n",
    "# กรอง เพศชายอย่างเดียว\n",
    "data_sample['sex'] == 'male'\n",
    "data_sample['sex'] != 'male'\n",
    "\n",
    "\n",
    "#สร้าง Dataframe ชื่อว่า data_sample_female\n",
    "data_sample_female = data_sample[data_sample['sex'] != 'male']\n",
    "data_sample_female\n",
    "# data_sample\n",
    "# Dataframe income น้อยกว่าหรือเท่ากับ 30000 และ (&) น้ำหนัก มากกว่าหรือเท่ากับ 30 หรือ(|) เพศชาย |\n",
    "data_sample['income'] <= 30000\n",
    "data_sample['weight'] >= 30\n",
    "data_sample['sex'] == 'male'\n",
    "\n",
    "data_sample = data_sample[(data_sample['income'] <= 30000) & (data_sample['weight'] >= 30) & (data_sample['sex'] == 'male')]\n",
    "data_sample"
   ]
  }
 ],
 "metadata": {
  "kernelspec": {
   "display_name": "environments",
   "language": "python",
   "name": "python3"
  },
  "language_info": {
   "codemirror_mode": {
    "name": "ipython",
    "version": 3
   },
   "file_extension": ".py",
   "mimetype": "text/x-python",
   "name": "python",
   "nbconvert_exporter": "python",
   "pygments_lexer": "ipython3",
   "version": "3.13.5"
  }
 },
 "nbformat": 4,
 "nbformat_minor": 5
}
