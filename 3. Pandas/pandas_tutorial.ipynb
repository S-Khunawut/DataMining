{
 "cells": [
  {
   "cell_type": "code",
   "execution_count": 1,
   "id": "980f01b5",
   "metadata": {},
   "outputs": [],
   "source": [
    "import pandas as pd"
   ]
  },
  {
   "cell_type": "markdown",
   "id": "7fa21180",
   "metadata": {},
   "source": [
    "## Introduction to dataFrame"
   ]
  },
  {
   "cell_type": "code",
   "execution_count": 7,
   "id": "4449e49e",
   "metadata": {},
   "outputs": [
    {
     "data": {
      "text/html": [
       "<div>\n",
       "<style scoped>\n",
       "    .dataframe tbody tr th:only-of-type {\n",
       "        vertical-align: middle;\n",
       "    }\n",
       "\n",
       "    .dataframe tbody tr th {\n",
       "        vertical-align: top;\n",
       "    }\n",
       "\n",
       "    .dataframe thead th {\n",
       "        text-align: right;\n",
       "    }\n",
       "</style>\n",
       "<table border=\"1\" class=\"dataframe\">\n",
       "  <thead>\n",
       "    <tr style=\"text-align: right;\">\n",
       "      <th></th>\n",
       "      <th>0</th>\n",
       "      <th>1</th>\n",
       "      <th>2</th>\n",
       "    </tr>\n",
       "  </thead>\n",
       "  <tbody>\n",
       "    <tr>\n",
       "      <th>0</th>\n",
       "      <td>1</td>\n",
       "      <td>2</td>\n",
       "      <td>3</td>\n",
       "    </tr>\n",
       "    <tr>\n",
       "      <th>1</th>\n",
       "      <td>4</td>\n",
       "      <td>5</td>\n",
       "      <td>6</td>\n",
       "    </tr>\n",
       "    <tr>\n",
       "      <th>2</th>\n",
       "      <td>7</td>\n",
       "      <td>8</td>\n",
       "      <td>9</td>\n",
       "    </tr>\n",
       "    <tr>\n",
       "      <th>3</th>\n",
       "      <td>10</td>\n",
       "      <td>11</td>\n",
       "      <td>12</td>\n",
       "    </tr>\n",
       "  </tbody>\n",
       "</table>\n",
       "</div>"
      ],
      "text/plain": [
       "    0   1   2\n",
       "0   1   2   3\n",
       "1   4   5   6\n",
       "2   7   8   9\n",
       "3  10  11  12"
      ]
     },
     "execution_count": 7,
     "metadata": {},
     "output_type": "execute_result"
    }
   ],
   "source": [
    "# Create dataFrame:df\n",
    "df = pd.DataFrame([[1,2,3],[4,5,6],[7,8,9],[10,11,12]])\n",
    "df"
   ]
  },
  {
   "cell_type": "code",
   "execution_count": 8,
   "id": "c4c75f0d",
   "metadata": {},
   "outputs": [
    {
     "data": {
      "text/html": [
       "<div>\n",
       "<style scoped>\n",
       "    .dataframe tbody tr th:only-of-type {\n",
       "        vertical-align: middle;\n",
       "    }\n",
       "\n",
       "    .dataframe tbody tr th {\n",
       "        vertical-align: top;\n",
       "    }\n",
       "\n",
       "    .dataframe thead th {\n",
       "        text-align: right;\n",
       "    }\n",
       "</style>\n",
       "<table border=\"1\" class=\"dataframe\">\n",
       "  <thead>\n",
       "    <tr style=\"text-align: right;\">\n",
       "      <th></th>\n",
       "      <th>A</th>\n",
       "      <th>B</th>\n",
       "      <th>C</th>\n",
       "    </tr>\n",
       "  </thead>\n",
       "  <tbody>\n",
       "    <tr>\n",
       "      <th>0</th>\n",
       "      <td>1</td>\n",
       "      <td>2</td>\n",
       "      <td>3</td>\n",
       "    </tr>\n",
       "    <tr>\n",
       "      <th>1</th>\n",
       "      <td>4</td>\n",
       "      <td>5</td>\n",
       "      <td>6</td>\n",
       "    </tr>\n",
       "    <tr>\n",
       "      <th>2</th>\n",
       "      <td>7</td>\n",
       "      <td>8</td>\n",
       "      <td>9</td>\n",
       "    </tr>\n",
       "    <tr>\n",
       "      <th>3</th>\n",
       "      <td>10</td>\n",
       "      <td>11</td>\n",
       "      <td>12</td>\n",
       "    </tr>\n",
       "  </tbody>\n",
       "</table>\n",
       "</div>"
      ],
      "text/plain": [
       "    A   B   C\n",
       "0   1   2   3\n",
       "1   4   5   6\n",
       "2   7   8   9\n",
       "3  10  11  12"
      ]
     },
     "execution_count": 8,
     "metadata": {},
     "output_type": "execute_result"
    }
   ],
   "source": [
    "# df with columns\n",
    "df_columns= pd.DataFrame([[1,2,3],[4,5,6],[7,8,9],[10,11,12]],columns= [\"A\",\"B\",\"C\"])\n",
    "df_columns"
   ]
  },
  {
   "cell_type": "code",
   "execution_count": 9,
   "id": "8a354d01",
   "metadata": {},
   "outputs": [
    {
     "data": {
      "text/html": [
       "<div>\n",
       "<style scoped>\n",
       "    .dataframe tbody tr th:only-of-type {\n",
       "        vertical-align: middle;\n",
       "    }\n",
       "\n",
       "    .dataframe tbody tr th {\n",
       "        vertical-align: top;\n",
       "    }\n",
       "\n",
       "    .dataframe thead th {\n",
       "        text-align: right;\n",
       "    }\n",
       "</style>\n",
       "<table border=\"1\" class=\"dataframe\">\n",
       "  <thead>\n",
       "    <tr style=\"text-align: right;\">\n",
       "      <th></th>\n",
       "      <th>A</th>\n",
       "      <th>B</th>\n",
       "      <th>C</th>\n",
       "    </tr>\n",
       "  </thead>\n",
       "  <tbody>\n",
       "    <tr>\n",
       "      <th>year_1</th>\n",
       "      <td>1</td>\n",
       "      <td>2</td>\n",
       "      <td>3</td>\n",
       "    </tr>\n",
       "    <tr>\n",
       "      <th>year_2</th>\n",
       "      <td>4</td>\n",
       "      <td>5</td>\n",
       "      <td>6</td>\n",
       "    </tr>\n",
       "    <tr>\n",
       "      <th>year_3</th>\n",
       "      <td>7</td>\n",
       "      <td>8</td>\n",
       "      <td>9</td>\n",
       "    </tr>\n",
       "    <tr>\n",
       "      <th>year_4</th>\n",
       "      <td>10</td>\n",
       "      <td>11</td>\n",
       "      <td>12</td>\n",
       "    </tr>\n",
       "  </tbody>\n",
       "</table>\n",
       "</div>"
      ],
      "text/plain": [
       "         A   B   C\n",
       "year_1   1   2   3\n",
       "year_2   4   5   6\n",
       "year_3   7   8   9\n",
       "year_4  10  11  12"
      ]
     },
     "execution_count": 9,
     "metadata": {},
     "output_type": "execute_result"
    }
   ],
   "source": [
    "# df with columns and index\n",
    "df_columns_index= pd.DataFrame([[1,2,3],[4,5,6],[7,8,9],[10,11,12]],columns= [\"A\",\"B\",\"C\"],index=[\"year_1\",\"year_2\",\"year_3\",\"year_4\",])\n",
    "df_columns_index"
   ]
  },
  {
   "cell_type": "markdown",
   "id": "efd599f0",
   "metadata": {},
   "source": [
    "## 2. Data loading\n",
    "### การนำเข้าข้อมูล"
   ]
  },
  {
   "cell_type": "code",
   "execution_count": 12,
   "id": "701a8823",
   "metadata": {},
   "outputs": [
    {
     "data": {
      "text/html": [
       "<div>\n",
       "<style scoped>\n",
       "    .dataframe tbody tr th:only-of-type {\n",
       "        vertical-align: middle;\n",
       "    }\n",
       "\n",
       "    .dataframe tbody tr th {\n",
       "        vertical-align: top;\n",
       "    }\n",
       "\n",
       "    .dataframe thead th {\n",
       "        text-align: right;\n",
       "    }\n",
       "</style>\n",
       "<table border=\"1\" class=\"dataframe\">\n",
       "  <thead>\n",
       "    <tr style=\"text-align: right;\">\n",
       "      <th></th>\n",
       "      <th>coffee</th>\n",
       "      <th>unit_sold</th>\n",
       "    </tr>\n",
       "  </thead>\n",
       "  <tbody>\n",
       "    <tr>\n",
       "      <th>0</th>\n",
       "      <td>late</td>\n",
       "      <td>15</td>\n",
       "    </tr>\n",
       "    <tr>\n",
       "      <th>1</th>\n",
       "      <td>espresso</td>\n",
       "      <td>20</td>\n",
       "    </tr>\n",
       "    <tr>\n",
       "      <th>2</th>\n",
       "      <td>capuchino</td>\n",
       "      <td>18</td>\n",
       "    </tr>\n",
       "    <tr>\n",
       "      <th>3</th>\n",
       "      <td>amaricano</td>\n",
       "      <td>10</td>\n",
       "    </tr>\n",
       "  </tbody>\n",
       "</table>\n",
       "</div>"
      ],
      "text/plain": [
       "      coffee  unit_sold\n",
       "0       late         15\n",
       "1   espresso         20\n",
       "2  capuchino         18\n",
       "3  amaricano         10"
      ]
     },
     "execution_count": 12,
     "metadata": {},
     "output_type": "execute_result"
    }
   ],
   "source": [
    "# read_excel()\n",
    "import pandas as pd\n",
    "df_from_excel = pd.read_excel(\"./datasets/Data_sample.xlsx\")\n",
    "df_from_excel_sheet2 = pd.read_excel(\"./datasets/Data_sample.xlsx\",sheet_name=\"Sheet2\")\n",
    "df_from_excel_sheet2"
   ]
  },
  {
   "cell_type": "code",
   "execution_count": null,
   "id": "eef230da",
   "metadata": {},
   "outputs": [],
   "source": [
    "# read_csv()\n",
    "df_from_csv = pd.read_csv(\"./datasets/Salary_Data.csv\")\n",
    "df_from_csv"
   ]
  },
  {
   "cell_type": "code",
   "execution_count": 2,
   "id": "5d19f5ed",
   "metadata": {},
   "outputs": [
    {
     "ename": "NameError",
     "evalue": "name 'pd' is not defined",
     "output_type": "error",
     "traceback": [
      "\u001b[31m---------------------------------------------------------------------------\u001b[39m",
      "\u001b[31mNameError\u001b[39m                                 Traceback (most recent call last)",
      "\u001b[36mCell\u001b[39m\u001b[36m \u001b[39m\u001b[32mIn[2]\u001b[39m\u001b[32m, line 4\u001b[39m\n\u001b[32m      1\u001b[39m \u001b[38;5;66;03m# read_csv() from url\u001b[39;00m\n\u001b[32m      2\u001b[39m \u001b[38;5;66;03m#read_csv(path)\u001b[39;00m\n\u001b[32m      3\u001b[39m path = \u001b[33m\"\u001b[39m\u001b[33mhttps://raw.githubusercontent.com/MainakRepositor/Datasets/refs/heads/master/CoffeeAndCodeLT2018\u001b[39m\u001b[33m%\u001b[39m\u001b[33m20-\u001b[39m\u001b[33m%\u001b[39m\u001b[33m20CoffeeAndCodeLT2018.csv\u001b[39m\u001b[33m\"\u001b[39m\n\u001b[32m----> \u001b[39m\u001b[32m4\u001b[39m df_from_url = \u001b[43mpd\u001b[49m.read_csv(path)\n\u001b[32m      6\u001b[39m df_from_url\n",
      "\u001b[31mNameError\u001b[39m: name 'pd' is not defined"
     ]
    }
   ],
   "source": [
    "# read_csv() from url\n",
    "#read_csv(path)\n",
    "path = \"https://raw.githubusercontent.com/MainakRepositor/Datasets/refs/heads/master/CoffeeAndCodeLT2018%20-%20CoffeeAndCodeLT2018.csv\"\n",
    "df_from_url = pd.read_csv(path)\n",
    "\n",
    "df_from_url"
   ]
  },
  {
   "cell_type": "markdown",
   "id": "c738a5ec",
   "metadata": {},
   "source": [
    "## 3.Accessing Data with Pandas\n",
    "### การเข้าถึงข้อมูล"
   ]
  },
  {
   "cell_type": "code",
   "execution_count": 15,
   "id": "bba5882a",
   "metadata": {},
   "outputs": [
    {
     "name": "stdout",
     "output_type": "stream",
     "text": [
      "<class 'pandas.core.frame.DataFrame'>\n",
      "RangeIndex: 100 entries, 0 to 99\n",
      "Data columns (total 9 columns):\n",
      " #   Column               Non-Null Count  Dtype \n",
      "---  ------               --------------  ----- \n",
      " 0   CodingHours          100 non-null    int64 \n",
      " 1   CoffeeCupsPerDay     100 non-null    int64 \n",
      " 2   CoffeeTime           100 non-null    object\n",
      " 3   CodingWithoutCoffee  100 non-null    object\n",
      " 4   CoffeeType           99 non-null     object\n",
      " 5   CoffeeSolveBugs      100 non-null    object\n",
      " 6   Gender               100 non-null    object\n",
      " 7   Country              100 non-null    object\n",
      " 8   AgeRange             98 non-null     object\n",
      "dtypes: int64(2), object(7)\n",
      "memory usage: 7.2+ KB\n"
     ]
    }
   ],
   "source": [
    "# ตรวจสอบ dataFrame ด้วย.info\n",
    "df_from_url.info()"
   ]
  },
  {
   "cell_type": "code",
   "execution_count": null,
   "id": "21bc1eb0",
   "metadata": {},
   "outputs": [],
   "source": [
    "# เข้าถึงข้อมูลแบบ คอลัม\n",
    "\n",
    "# 1.แสดง คอลัม\n",
    "df_from_url.columns\n",
    "#['CodingHours', 'CoffeeCupsPerDay', 'CoffeeTime', 'CodingWithoutCoffee',\n",
    "    #    'CoffeeType', 'CoffeeSolveBugs', 'Gender', 'Country', 'AgeRange']\n",
    "# 2.เข้าถึง คอลัม\n",
    "df_from_url[\"CodingHours\"]\n",
    "df_from_url[\"Country\"]\n",
    "df_from_url[\"CoffeeType\"]\n",
    "df_from_url[\"CoffeeTime\"]\n",
    "\n",
    "# 2.เข้าถึง คอลัม more than 1 คอลัม\n",
    "df_from_url[[\"CodingHours\",\"Country\",\"CoffeeType\",\"CoffeeTime\"]]"
   ]
  },
  {
   "cell_type": "code",
   "execution_count": null,
   "id": "260fe8a9",
   "metadata": {},
   "outputs": [],
   "source": [
    "# เข้าถึงแบบ Row with dataFrame.loc[ row columns ]\n",
    "df_from_url.loc[[0,1,2,3,4,5,6,7,8,9]]\n",
    "df_from_url.loc[0:20]\n",
    "df_from_url.loc[50:]"
   ]
  },
  {
   "cell_type": "code",
   "execution_count": null,
   "id": "d84e7b0c",
   "metadata": {},
   "outputs": [],
   "source": [
    "#เข้าถึงแบบ dataFrame.loc[ row columns ]\n",
    "# สร้างด้าต้าเฟลม ชื่อ coffee\n",
    "coffee = df_from_url\n",
    "\n",
    "# ขอแถวที่ 0 ถึง 20 และ คอลัม 'CoffeeType'\n",
    "coffee.loc[:20,'CoffeeType']\n",
    "\n",
    "# ขอแถวที่ 0 ถึง 20 และ คอลัม 'CoffeeType''Grnder'\n",
    "coffee.loc[:20,['CoffeeType','Gender']]\n",
    "\n",
    "# ขอแถวที่ 15 ถึง 50 และ คอลัม ที่3-6\n",
    "coffee.loc[14:50,['CoffeeTime','CodingWithoutCoffee','CoffeeType','CoffeeSolveBugs']]"
   ]
  },
  {
   "cell_type": "markdown",
   "id": "fefea716",
   "metadata": {},
   "source": [
    "## 4.Filtering Data"
   ]
  },
  {
   "cell_type": "code",
   "execution_count": 55,
   "id": "60dfe804",
   "metadata": {},
   "outputs": [
    {
     "name": "stdout",
     "output_type": "stream",
     "text": [
      "<class 'pandas.core.frame.DataFrame'>\n",
      "Index: 23 entries, 4 to 99\n",
      "Data columns (total 9 columns):\n",
      " #   Column               Non-Null Count  Dtype \n",
      "---  ------               --------------  ----- \n",
      " 0   CodingHours          23 non-null     int64 \n",
      " 1   CoffeeCupsPerDay     23 non-null     int64 \n",
      " 2   CoffeeTime           23 non-null     object\n",
      " 3   CodingWithoutCoffee  23 non-null     object\n",
      " 4   CoffeeType           22 non-null     object\n",
      " 5   CoffeeSolveBugs      23 non-null     object\n",
      " 6   Gender               23 non-null     object\n",
      " 7   Country              23 non-null     object\n",
      " 8   AgeRange             23 non-null     object\n",
      "dtypes: int64(2), object(7)\n",
      "memory usage: 1.8+ KB\n"
     ]
    },
    {
     "data": {
      "text/html": [
       "<div>\n",
       "<style scoped>\n",
       "    .dataframe tbody tr th:only-of-type {\n",
       "        vertical-align: middle;\n",
       "    }\n",
       "\n",
       "    .dataframe tbody tr th {\n",
       "        vertical-align: top;\n",
       "    }\n",
       "\n",
       "    .dataframe thead th {\n",
       "        text-align: right;\n",
       "    }\n",
       "</style>\n",
       "<table border=\"1\" class=\"dataframe\">\n",
       "  <thead>\n",
       "    <tr style=\"text-align: right;\">\n",
       "      <th></th>\n",
       "      <th>CodingHours</th>\n",
       "      <th>CoffeeCupsPerDay</th>\n",
       "      <th>CoffeeTime</th>\n",
       "      <th>CodingWithoutCoffee</th>\n",
       "      <th>CoffeeType</th>\n",
       "      <th>CoffeeSolveBugs</th>\n",
       "      <th>Gender</th>\n",
       "      <th>Country</th>\n",
       "      <th>AgeRange</th>\n",
       "    </tr>\n",
       "  </thead>\n",
       "  <tbody>\n",
       "    <tr>\n",
       "      <th>32</th>\n",
       "      <td>9</td>\n",
       "      <td>2</td>\n",
       "      <td>Before coding</td>\n",
       "      <td>Sometimes</td>\n",
       "      <td>Nescafe</td>\n",
       "      <td>Sometimes</td>\n",
       "      <td>Female</td>\n",
       "      <td>Lebanon</td>\n",
       "      <td>18 to 29</td>\n",
       "    </tr>\n",
       "    <tr>\n",
       "      <th>47</th>\n",
       "      <td>9</td>\n",
       "      <td>1</td>\n",
       "      <td>In the morning</td>\n",
       "      <td>Yes</td>\n",
       "      <td>Nescafe</td>\n",
       "      <td>No</td>\n",
       "      <td>Female</td>\n",
       "      <td>Lebanon</td>\n",
       "      <td>18 to 29</td>\n",
       "    </tr>\n",
       "    <tr>\n",
       "      <th>77</th>\n",
       "      <td>9</td>\n",
       "      <td>3</td>\n",
       "      <td>While coding</td>\n",
       "      <td>Sometimes</td>\n",
       "      <td>Nescafe</td>\n",
       "      <td>Sometimes</td>\n",
       "      <td>Female</td>\n",
       "      <td>Lebanon</td>\n",
       "      <td>18 to 29</td>\n",
       "    </tr>\n",
       "  </tbody>\n",
       "</table>\n",
       "</div>"
      ],
      "text/plain": [
       "    CodingHours  CoffeeCupsPerDay      CoffeeTime CodingWithoutCoffee  \\\n",
       "32            9                 2   Before coding           Sometimes   \n",
       "47            9                 1  In the morning                 Yes   \n",
       "77            9                 3    While coding           Sometimes   \n",
       "\n",
       "   CoffeeType CoffeeSolveBugs  Gender  Country  AgeRange  \n",
       "32    Nescafe       Sometimes  Female  Lebanon  18 to 29  \n",
       "47    Nescafe              No  Female  Lebanon  18 to 29  \n",
       "77    Nescafe       Sometimes  Female  Lebanon  18 to 29  "
      ]
     },
     "execution_count": 55,
     "metadata": {},
     "output_type": "execute_result"
    }
   ],
   "source": [
    "# 1. Single condition / เงื่อนไขเดียว\n",
    "# กรองคนทำงาน CodingHours > 8 \n",
    "high_coffee = coffee[\"CodingHours\"]>8 # Series\n",
    "high_coffee = coffee[coffee[\"CodingHours\"]>8] # Series\n",
    "high_coffee.info()\n",
    "# high_coffee = df[df['salary']>50000]\n",
    "\n",
    "# 2. Multi condition\n",
    "# กรองคนทำงาน CodingHours > 8 และ เป็น เพศหญิง\n",
    "# high_coffee = coffee[coffee[\"CodingHours\"]>8 & coffee['Gender']=='Female'] # DataFrame\n",
    "high_coffee = coffee[(coffee[\"CodingHours\"] > 8) & (coffee[\"Gender\"] == \"Female\")]\n",
    "high_coffee\n",
    "# female_high_salay = df[df['gender']=='Female']"
   ]
  }
 ],
 "metadata": {
  "kernelspec": {
   "display_name": "env",
   "language": "python",
   "name": "python3"
  },
  "language_info": {
   "codemirror_mode": {
    "name": "ipython",
    "version": 3
   },
   "file_extension": ".py",
   "mimetype": "text/x-python",
   "name": "python",
   "nbconvert_exporter": "python",
   "pygments_lexer": "ipython3",
   "version": "3.13.5"
  }
 },
 "nbformat": 4,
 "nbformat_minor": 5
}
