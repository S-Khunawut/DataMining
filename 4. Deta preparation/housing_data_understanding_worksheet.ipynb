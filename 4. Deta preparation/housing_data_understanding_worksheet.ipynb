{
 "cells": [
  {
   "cell_type": "markdown",
   "id": "ebd0a4d4",
   "metadata": {},
   "source": [
    "# Data Understanding Worksheet : Housing Dataset\n",
    "\n",
    "ในใบงานนี้ นักศึกษาจะได้ฝึกกระบวนการ **ทำความเข้าใจกับข้อมูล (Data Understanding)** โดยใช้ dataset `housing.csv` (เช่น California Housing Dataset) ซึ่งประกอบด้วยข้อมูลเชิงประชากรและที่อยู่อาศัยในแคลิฟอร์เนีย\n",
    "\n",
    "---\n",
    "*Generated: 2025-08-28 13:31:06*"
   ]
  },
  {
   "cell_type": "code",
   "execution_count": null,
   "id": "4c5e9fba",
   "metadata": {},
   "outputs": [],
   "source": [
    "## ตั้งค่าเริ่มต้น\n",
    "import pandas as pd\n",
    "import matplotlib.pyplot as plt\n",
    "import seaborn as sns\n",
    "\n",
    "# ตั้งค่าการแสดงผลของ pandas (ปรับได้ตามชอบ)\n",
    "pd.set_option('display.max_columns', 100)\n",
    "pd.set_option('display.precision', 3)\n"
   ]
  },
  {
   "cell_type": "markdown",
   "id": "5d923ccc",
   "metadata": {},
   "source": [
    "## 1) ตรวจสอบโครงสร้างข้อมูล (Data Structure)\n",
    "**คำสั่ง:**\n",
    "1. โหลดไฟล์ `housing.csv` มาเป็น DataFrame ชื่อ `housing`\n",
    "2. แสดงจำนวนแถวและคอลัมน์ของ dataset (`.shape`)\n",
    "3. ตรวจสอบชนิดข้อมูลของแต่ละคอลัมน์ (`.info()`)\n"
   ]
  },
  {
   "cell_type": "code",
   "execution_count": null,
   "id": "eb0d7f2b",
   "metadata": {},
   "outputs": [],
   "source": [
    "# TODO: เขียนโค้ดที่นี่\n"
   ]
  },
  {
   "cell_type": "code",
   "execution_count": null,
   "id": "aa210b30",
   "metadata": {},
   "outputs": [],
   "source": [
    "# TODO: ตรวจสอบชนิดข้อมูล\n"
   ]
  },
  {
   "cell_type": "markdown",
   "id": "24e227f7",
   "metadata": {},
   "source": [
    "## 2) ตรวจสอบ Missing Values\n",
    "**คำสั่ง:**\n",
    "1. ตรวจสอบว่ามีคอลัมน์ใดที่มี missing values บ้าง\n",
    "2. แสดงจำนวนและสัดส่วน (%) ของ missing values ในแต่ละคอลัมน์\n"
   ]
  },
  {
   "cell_type": "code",
   "execution_count": null,
   "id": "044a00f9",
   "metadata": {},
   "outputs": [],
   "source": [
    "# TODO: เขียนโค้ดที่นี่\n",
    "\n"
   ]
  },
  {
   "cell_type": "markdown",
   "id": "ee6ffed3",
   "metadata": {},
   "source": [
    "## 3) สถิติพื้นฐาน (Descriptive Statistics)\n",
    "**คำสั่ง:**\n",
    "1. แสดงค่าสถิติพื้นฐานของคอลัมน์ตัวเลข (`.describe()`)\n",
    "2. หาค่าเฉลี่ยและค่ามัธยฐานของ `median_income` และ `median_house_value`\n"
   ]
  },
  {
   "cell_type": "code",
   "execution_count": null,
   "id": "e19954a5",
   "metadata": {},
   "outputs": [],
   "source": [
    "# TODO: เขียนโค้ดที่นี่\n",
    "\n"
   ]
  },
  {
   "cell_type": "markdown",
   "id": "d7d8854f",
   "metadata": {},
   "source": [
    "## 4) การแจกแจงข้อมูล (Distribution)\n",
    "**คำสั่ง:**\n",
    "1. วาด histogram ของ `median_income`\n",
    "2. วาด histogram ของ `median_house_value`\n",
    "3. อธิบายว่าการแจกแจงเป็นแบบไหน (เบ้ซ้าย/เบ้ขวา, มีเพดานค่า ฯลฯ)\n"
   ]
  },
  {
   "cell_type": "code",
   "execution_count": null,
   "id": "3752eadb",
   "metadata": {},
   "outputs": [],
   "source": [
    "# TODO: เขียนโค้ดที่นี่\n",
    "# bins = 50 "
   ]
  },
  {
   "cell_type": "code",
   "execution_count": null,
   "id": "6278e82c",
   "metadata": {},
   "outputs": [],
   "source": [
    "# TODO: เขียนโค้ดที่นี่\n",
    "\n"
   ]
  },
  {
   "cell_type": "markdown",
   "id": "562c174b",
   "metadata": {},
   "source": [
    "> อธิบายด้วยคำพูดสั้น ๆ: \n",
    "- รูปร่างการกระจายของ `median_income` เป็นอย่างไร?\n",
    "- `median_house_value` มีแนวโน้มชนเพดานหรือไม่?\n"
   ]
  },
  {
   "cell_type": "markdown",
   "id": "a64840bb",
   "metadata": {},
   "source": [
    "## 5) ความสัมพันธ์ระหว่างตัวแปร (Correlation)\n",
    "**คำสั่ง:**\n",
    "1. คำนวณ correlation matrix ของตัวแปรเชิงตัวเลข (`.corr(numeric_only=True)`) \n",
    "2. หา feature ที่สัมพันธ์กับ `median_house_value` มากที่สุด (ยกเว้นตัวมันเอง)\n",
    "3. สร้าง heatmap ของ correlation matrix\n"
   ]
  },
  {
   "cell_type": "code",
   "execution_count": null,
   "id": "7937a4b0",
   "metadata": {},
   "outputs": [],
   "source": [
    "# TODO: คำนวณ correlation matrix\n"
   ]
  },
  {
   "cell_type": "code",
   "execution_count": null,
   "id": "1dc1b69d",
   "metadata": {},
   "outputs": [],
   "source": [
    "# TODO: หาคอลัมน์ที่สัมพันธ์กับ median_house_value มากที่สุด\n",
    "# ยังไม่ต้องทำก็ได้ "
   ]
  },
  {
   "cell_type": "markdown",
   "id": "26bccc01",
   "metadata": {},
   "source": [
    "## 6) Scatter Plot ความสัมพันธ์\n",
    "**คำสั่ง:**\n",
    "1. สร้าง scatter plot ของ `median_income` กับ `median_house_value`\n",
    "2. สังเกตความสัมพันธ์และอธิบายสิ่งที่พบ\n"
   ]
  },
  {
   "cell_type": "code",
   "execution_count": null,
   "id": "48dde3b1",
   "metadata": {},
   "outputs": [],
   "source": [
    "# TODO: เขียนโค้ดที่นี่\n",
    "\n"
   ]
  },
  {
   "cell_type": "markdown",
   "id": "4f3e4bb9",
   "metadata": {},
   "source": [
    "## 7) Outlier Exploration\n",
    "**คำสั่ง:**\n",
    "1. ตรวจสอบคอลัมน์ที่อาจมี outlier ชัดเจน (เช่น `total_rooms`, `population`)\n",
    "2. เสนอแนวทางการจัดการ outlier (เช่น ลบ, winsorize, log transform, ใช้ robust model)\n"
   ]
  },
  {
   "cell_type": "code",
   "execution_count": null,
   "id": "1e301896",
   "metadata": {},
   "outputs": [],
   "source": [
    "# TODO: ตัวอย่างเริ่มต้นสำหรับตรวจสอบ outlier ด้วย quantile\n"
   ]
  },
  {
   "cell_type": "markdown",
   "id": "53210597",
   "metadata": {},
   "source": [
    "### คำตอบแบบบรรยาย (สั้น ๆ)\n",
    "- คอลัมน์ใดที่น่าจะมี outlier?\n",
    "- จะจัดการอย่างไร? (เหตุผลประกอบ)\n"
   ]
  },
  {
   "cell_type": "markdown",
   "id": "d593dd9f",
   "metadata": {},
   "source": [
    "## สรุป\n",
    "จากการวิเคราะห์ นักศึกษาควรสามารถสรุปได้ว่า:\n",
    "- dataset มีตัวแปรอะไรบ้าง และมี missing values ตรงไหน\n",
    "- การกระจายตัวของข้อมูลเป็นอย่างไร\n",
    "- ตัวแปรใดสัมพันธ์กับราคาบ้าน (`median_house_value`) มากที่สุด\n",
    "- พื้นที่ไหนที่ราคาบ้านสูงหรือต่ำ\n",
    "- มี outlier หรือข้อจำกัดของข้อมูลอะไรบ้าง\n"
   ]
  }
 ],
 "metadata": {
  "kernelspec": {
   "display_name": "DataMining",
   "language": "python",
   "name": "datamining"
  },
  "language_info": {
   "name": "python",
   "version": "3.12.3"
  }
 },
 "nbformat": 4,
 "nbformat_minor": 5
}
