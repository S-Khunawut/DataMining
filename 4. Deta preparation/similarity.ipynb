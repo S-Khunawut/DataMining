{
 "cells": [
  {
   "cell_type": "markdown",
   "id": "8aeb52ed",
   "metadata": {},
   "source": [
    "# 1. Distance"
   ]
  },
  {
   "cell_type": "code",
   "execution_count": null,
   "id": "5be240d1",
   "metadata": {},
   "outputs": [],
   "source": [
    "pip install scipy"
   ]
  },
  {
   "cell_type": "code",
   "execution_count": null,
   "id": "b93b42e1",
   "metadata": {},
   "outputs": [],
   "source": [
    "import pandas as pd\n",
    "import numpy as np\n",
    "from scipy.spatial import distance_matrix\n"
   ]
  },
  {
   "cell_type": "code",
   "execution_count": null,
   "id": "3657a1b6",
   "metadata": {},
   "outputs": [],
   "source": [
    "# Mocking Data\n",
    "# Dictionry\n",
    "data = {\n",
    "  \"ID\":[\"P1\",\"P2\",\"P3\",\"P4\"],\n",
    "  \"x\":[0,2,3,5],\n",
    "  \"y\":[2,0,1,1,]\n",
    "\n",
    "\n",
    "}"
   ]
  },
  {
   "cell_type": "code",
   "execution_count": null,
   "id": "acca7721",
   "metadata": {},
   "outputs": [],
   "source": [
    "# แปลง Dictionry to Dataframe\n",
    "df = pd.DataFrame(data).set_index(\"ID\")\n",
    "df"
   ]
  },
  {
   "cell_type": "code",
   "execution_count": 24,
   "id": "11d5878b",
   "metadata": {},
   "outputs": [],
   "source": [
    "# manhattan\n",
    "manhattan = distance_matrix(df.values,df.values,p = 1)\n",
    "manhattan = pd.DataFrame(manhattan,index = df.index, columns = df.index)\n",
    "# Euclidian\n",
    "euclidian = distance_matrix(df.values,df.values,p = 2)\n",
    "euclidian = pd.DataFrame(euclidian,index = df.index, columns = df.index)\n",
    "# minkowsky p = 3\n",
    "minkowsky = distance_matrix(df.values,df.values,p = 3 )\n",
    "minkowsky = pd.DataFrame(minkowsky,index = df.index, columns = df.index)"
   ]
  },
  {
   "cell_type": "code",
   "execution_count": 25,
   "id": "871d1c83",
   "metadata": {},
   "outputs": [
    {
     "name": "stdout",
     "output_type": "stream",
     "text": [
      "minkowsky \n",
      " ID     P1     P2     P3     P4\n",
      "ID                            \n",
      "P1  0.000  2.520  3.037  5.013\n",
      "P2  2.520  0.000  1.260  3.037\n",
      "P3  3.037  1.260  0.000  2.000\n",
      "P4  5.013  3.037  2.000  0.000\n",
      "euclidian \n",
      " ID     P1     P2     P3     P4\n",
      "ID                            \n",
      "P1  0.000  2.828  3.162  5.099\n",
      "P2  2.828  0.000  1.414  3.162\n",
      "P3  3.162  1.414  0.000  2.000\n",
      "P4  5.099  3.162  2.000  0.000\n",
      "manhattan \n",
      " ID   P1   P2   P3   P4\n",
      "ID                    \n",
      "P1  0.0  4.0  4.0  6.0\n",
      "P2  4.0  0.0  2.0  4.0\n",
      "P3  4.0  2.0  0.0  2.0\n",
      "P4  6.0  4.0  2.0  0.0\n"
     ]
    }
   ],
   "source": [
    "print(\"minkowsky \\n\",minkowsky.round(3))\n",
    "print(\"euclidian \\n\",euclidian.round(3))\n",
    "print(\"manhattan \\n\",manhattan.round(3))"
   ]
  }
 ],
 "metadata": {
  "kernelspec": {
   "display_name": "environment",
   "language": "python",
   "name": "python3"
  },
  "language_info": {
   "codemirror_mode": {
    "name": "ipython",
    "version": 3
   },
   "file_extension": ".py",
   "mimetype": "text/x-python",
   "name": "python",
   "nbconvert_exporter": "python",
   "pygments_lexer": "ipython3",
   "version": "3.13.7"
  }
 },
 "nbformat": 4,
 "nbformat_minor": 5
}
