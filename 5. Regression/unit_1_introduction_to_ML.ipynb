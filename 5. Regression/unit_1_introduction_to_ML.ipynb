{
 "cells": [
  {
   "cell_type": "code",
   "execution_count": null,
   "id": "95f7ccd0",
   "metadata": {},
   "outputs": [],
   "source": [
    "# เตรียมเครื่องมือ\n",
    "import matplotlib.pyplot as plt\n",
    "import pandas as pd\n",
    "import numpy as np\n",
    "import seaborn as sns   "
   ]
  },
  {
   "cell_type": "code",
   "execution_count": null,
   "id": "ca7c592f",
   "metadata": {},
   "outputs": [],
   "source": [
    "# data preparation \n",
    "# create data ==> create ==> Dictionnay ==> Create Dataframe\n",
    "x_data = [1.0, 1.8, 3.0, 4.1, 5.2, 6.0]   # ข้อมูล x แบบ List \n",
    "y_data = [1, 1.3, 2.2, 2.5, 2.8, 3.6] # ข้อมูล y  List \n",
    "x = np.array(x_data) # แปลงข้อมูล x เป็น arrray\n",
    "y = np.array(y_data) # แปลงข้อมูล y เป็น array \n",
    "\n",
    "# dictionary \n",
    "data_dict = { \"x\": x_data, \"y\": y_data} # create dicxtionary \n",
    "\n",
    "# DataFrame\n",
    "df = pd.DataFrame(data_dict) # create data frame "
   ]
  },
  {
   "cell_type": "code",
   "execution_count": null,
   "id": "c967f4d7",
   "metadata": {},
   "outputs": [],
   "source": [
    "# check data \n",
    "x, y, df, x.shape"
   ]
  },
  {
   "cell_type": "code",
   "execution_count": null,
   "id": "4f22ff37",
   "metadata": {},
   "outputs": [],
   "source": [
    "# data visualization \n",
    "\n",
    "plt.scatter(x,y)\n",
    "plt.grid()\n",
    "plt.show()"
   ]
  },
  {
   "cell_type": "code",
   "execution_count": null,
   "id": "ec6c8bdf",
   "metadata": {},
   "outputs": [],
   "source": [
    "# data vidualization \n",
    "df.plot(kind='scatter', x= 'x', y = 'y', color='skyblue')\n",
    "plt.grid()\n",
    "plt.show()"
   ]
  },
  {
   "cell_type": "code",
   "execution_count": 46,
   "id": "75043486",
   "metadata": {},
   "outputs": [],
   "source": [
    "# expectation regression line \n",
    "# setting \n",
    "from sklearn.linear_model import LinearRegression \n"
   ]
  },
  {
   "cell_type": "code",
   "execution_count": null,
   "id": "ff8933d6",
   "metadata": {},
   "outputs": [],
   "source": [
    "# ข้อมูลที่จะใช้ในการ สร้างต้องอยู่ในรูปของ matrix \n",
    "# API ของ scikit-learn กำหนดให้ข้อมูล feature ต้องอยู่ในรูป 2D array\n",
    "# เดิม  x : array([1. , 1.8, 3. , 4.1, 5.2, 6. ])\n",
    "x = x.reshape(-1,1) #  แปลงข้อมูล x เป็น matrix   [  [ 1. , 1.8, 3. , 4.1, 5.2, 6. ] ]\n",
    "y = y.reshape(-1,1) # แปลงข้อมูล ข้อมูล y เป็น matrix \n",
    "x,y\n",
    "\n",
    "# change dimension \n",
    "# x = x[:, np.newaxis]      np.newaxis เพิ่มแกนใหม่ ในตำแหน่ง column \n",
    "# x = x[:, None]\n",
    "# a.reshape(-1, 1) → 6 แถว, 1 คอลัมน์ → (6,1)\n",
    "# .reshape(-1, 2) → 3 แถว, 2 คอลัมน์ → (3,2)\n",
    "# a.reshape(-1, 3) → 2 แถว, 3 คอลัมน์ → (2,3)"
   ]
  },
  {
   "cell_type": "code",
   "execution_count": 48,
   "id": "1515fc4b",
   "metadata": {},
   "outputs": [],
   "source": [
    "# create model \n",
    "model_Linear = LinearRegression()  # สร้าง model \n"
   ]
  },
  {
   "cell_type": "code",
   "execution_count": null,
   "id": "a14543ab",
   "metadata": {},
   "outputs": [],
   "source": [
    "# train model \n",
    "model_Linear.fit(x,y) # คำสั่ง fit คือการให้คอมพิวเตอร์ เรียนรู้จากข้อมูล "
   ]
  },
  {
   "cell_type": "code",
   "execution_count": null,
   "id": "7932f6b0",
   "metadata": {},
   "outputs": [],
   "source": [
    "# Predict y when x = 5\n",
    "model_Linear.predict([[5]]) # พยากรณ์ผลลัพธ์ เมื่อ x = 5 "
   ]
  },
  {
   "cell_type": "code",
   "execution_count": 51,
   "id": "1c5a5019",
   "metadata": {},
   "outputs": [
    {
     "data": {
      "text/plain": [
       "array([[2.9579]])"
      ]
     },
     "execution_count": 51,
     "metadata": {},
     "output_type": "execute_result"
    }
   ],
   "source": [
    "model_Linear.predict([[5]]).round(4) # พยากรณ์ผลลัพธ์ เมื่อ x = 5  กำหนด ทศนิยม 4 ตำแหน่ง "
   ]
  },
  {
   "cell_type": "code",
   "execution_count": 52,
   "id": "798e3e80",
   "metadata": {},
   "outputs": [],
   "source": [
    "x_pred = [ 2, 2.5, 3, 5]\n",
    "x_pred = np.array(x_pred)\n",
    "xpred = x_pred.reshape(-1,1) "
   ]
  },
  {
   "cell_type": "code",
   "execution_count": null,
   "id": "f378425d",
   "metadata": {},
   "outputs": [],
   "source": [
    "y_predict = model_Linear.predict(x).round(4)\n",
    "y_predict"
   ]
  },
  {
   "cell_type": "code",
   "execution_count": null,
   "id": "bf2904c0",
   "metadata": {},
   "outputs": [],
   "source": [
    "y_predict[3][0]"
   ]
  },
  {
   "cell_type": "code",
   "execution_count": null,
   "id": "102d22a8",
   "metadata": {},
   "outputs": [],
   "source": [
    "# data visualization with Regression line \n",
    "plt.scatter( x,y, color='black')\n",
    "plt.plot(x, y_predict, color='orange', linewidth = 2)\n",
    "plt.scatter(x, y_predict, color='green')\n",
    "plt.grid()\n",
    "plt.show()\n"
   ]
  },
  {
   "cell_type": "code",
   "execution_count": null,
   "id": "7241bd36",
   "metadata": {},
   "outputs": [],
   "source": [
    "# save and calling model \n",
    "import joblib\n",
    "\n",
    "# save model \n",
    "# syntax: joblib.dump(model_create, name_of_Model)\n",
    "joblib.dump(model_Linear, 'model_Linear.pkl') \n"
   ]
  }
 ],
 "metadata": {
  "kernelspec": {
   "display_name": ".venv",
   "language": "python",
   "name": "python3"
  },
  "language_info": {
   "codemirror_mode": {
    "name": "ipython",
    "version": 3
   },
   "file_extension": ".py",
   "mimetype": "text/x-python",
   "name": "python",
   "nbconvert_exporter": "python",
   "pygments_lexer": "ipython3",
   "version": "3.13.7"
  }
 },
 "nbformat": 4,
 "nbformat_minor": 5
}
