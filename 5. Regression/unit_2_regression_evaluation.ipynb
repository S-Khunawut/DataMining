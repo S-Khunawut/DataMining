{
 "cells": [
  {
   "cell_type": "code",
   "execution_count": 1,
   "id": "e20387c9",
   "metadata": {},
   "outputs": [],
   "source": [
    "# Mocking data for regression \n",
    "y = [100, 50, 30, 20] \n",
    "y_predict = [90, 50, 50, 30]"
   ]
  },
  {
   "cell_type": "code",
   "execution_count": 2,
   "id": "ae22f01f",
   "metadata": {},
   "outputs": [],
   "source": [
    "# setting \n",
    "from sklearn.metrics import mean_squared_error, mean_absolute_error"
   ]
  },
  {
   "cell_type": "code",
   "execution_count": null,
   "id": "d2dbf5cd",
   "metadata": {},
   "outputs": [],
   "source": [
    "# MAE : Mean Absolute Error \n",
    "mean_absolute_error(y, y_predict)"
   ]
  },
  {
   "cell_type": "code",
   "execution_count": null,
   "id": "87c37491",
   "metadata": {},
   "outputs": [],
   "source": [
    "# MSE: Mean Square Error \n",
    "mean_squared_error(y, y_predict)"
   ]
  },
  {
   "cell_type": "code",
   "execution_count": 5,
   "id": "8a5993b6",
   "metadata": {},
   "outputs": [],
   "source": [
    "# Linear Regression \n",
    "import matplotlib.pyplot as plt\n",
    "import numpy as np\n",
    "\n",
    "from sklearn.linear_model import LinearRegression"
   ]
  },
  {
   "cell_type": "code",
   "execution_count": 8,
   "id": "418b5dde",
   "metadata": {},
   "outputs": [],
   "source": [
    "# Mocking data for regression 2 \n",
    "x_data = [1.0, 1.8, 3.0, 4.1, 5.2, 6.0]\n",
    "y_data = [1, 1.3, 2.2, 2.5, 2.8, 3.6]\n",
    "\n",
    "x = np.array(x_data).reshape(-1,1)\n",
    "y = np.array(y_data).reshape(-1,1)"
   ]
  },
  {
   "cell_type": "markdown",
   "id": "57a57592",
   "metadata": {},
   "source": []
  },
  {
   "cell_type": "code",
   "execution_count": null,
   "id": "489d0c25",
   "metadata": {},
   "outputs": [],
   "source": [
    "model = LinearRegression()\n",
    "model.fit(x, y)"
   ]
  },
  {
   "cell_type": "code",
   "execution_count": 11,
   "id": "9b77f719",
   "metadata": {},
   "outputs": [],
   "source": [
    "from sklearn.metrics import mean_squared_error, mean_absolute_error, r2_score"
   ]
  },
  {
   "cell_type": "code",
   "execution_count": null,
   "id": "9dde84f1",
   "metadata": {},
   "outputs": [],
   "source": [
    "# R-squared\n",
    "r_square = model.score(x, y)\n",
    "r_square\n",
    "print(f'R-squared: {r_square:.2f}')\n"
   ]
  },
  {
   "cell_type": "code",
   "execution_count": 21,
   "id": "a359544b",
   "metadata": {},
   "outputs": [],
   "source": [
    "# Predict \n",
    "y_predict = model.predict(x)"
   ]
  },
  {
   "cell_type": "code",
   "execution_count": null,
   "id": "0a978757",
   "metadata": {},
   "outputs": [],
   "source": [
    "# R-square with another way\n",
    "r2_score(y, y_predict)"
   ]
  },
  {
   "cell_type": "code",
   "execution_count": 25,
   "id": "0ed48e5d",
   "metadata": {},
   "outputs": [],
   "source": [
    "# MSE \n",
    "mean_squared_error(y, y_predict)\n",
    "# MAE \n",
    "mean_absolute_error(y, y_predict)\n",
    "# RMSE \n",
    "rmse = np.sqrt(mean_squared_error(y,y_predict))"
   ]
  }
 ],
 "metadata": {
  "kernelspec": {
   "display_name": "DataMining",
   "language": "python",
   "name": "datamining"
  },
  "language_info": {
   "codemirror_mode": {
    "name": "ipython",
    "version": 3
   },
   "file_extension": ".py",
   "mimetype": "text/x-python",
   "name": "python",
   "nbconvert_exporter": "python",
   "pygments_lexer": "ipython3",
   "version": "3.12.3"
  }
 },
 "nbformat": 4,
 "nbformat_minor": 5
}
